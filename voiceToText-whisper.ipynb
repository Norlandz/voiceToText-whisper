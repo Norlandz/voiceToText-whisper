{
 "cells": [
  {
   "cell_type": "code",
   "execution_count": null,
   "metadata": {},
   "outputs": [],
   "source": [
    "# !pip install git+https://github.com/openai/whisper.git\n",
    "# !sudo apt update && sudo apt install ffmpeg"
   ]
  },
  {
   "cell_type": "code",
   "execution_count": null,
   "metadata": {},
   "outputs": [],
   "source": [
    "# |>\"\n",
    "# 1) Mount your google drive in google colab:\n",
    "# \n",
    "# from google.colab import drive\n",
    "# drive.mount('/content/gdrive/')\n",
    "# 2) Append the directory to your python path using sys:\n",
    "# \n",
    "# import sys\n",
    "# sys.path.append('/content/gdrive/mypythondirectory')\n",
    "# <|\n",
    "# https://stackoverflow.com/questions/48905127/importing-py-files-in-google-colab\n",
    "\n",
    "# from google.colab import drive\n",
    "# drive.mount('/content/gdrive/')\n",
    "# \n",
    "# import sys\n",
    "# sys.path.append('/content/gdrive/mypythondirectory')"
   ]
  }
 ],
 "metadata": {
  "language_info": {
   "name": "python"
  }
 },
 "nbformat": 4,
 "nbformat_minor": 2
}
